{
 "cells": [
  {
   "cell_type": "code",
   "execution_count": 2,
   "id": "8c7ab4e8-50bb-4a2c-99ce-db2598ead310",
   "metadata": {},
   "outputs": [],
   "source": [
    "#import libraries\n",
    "import sqlalchemy as sa\n",
    "from sqlalchemy import create_engine\n",
    "import pandas as pd\n",
    "import numpy as np"
   ]
  },
  {
   "cell_type": "code",
   "execution_count": 7,
   "id": "b3fd330d-6223-493f-bd3f-13b84407559d",
   "metadata": {},
   "outputs": [],
   "source": [
    "#sql connection\n",
    "myconn_url = sa.engine.URL.create(\n",
    "    drivername='mysql+pymysql',\n",
    "    username='root',\n",
    "    password='',\n",
    "    host='localhost',\n",
    "    database='dataspark'\n",
    ")\n",
    "\n",
    "# creating alchemy engine to connect with Database\n",
    "engine = create_engine(myconn_url)"
   ]
  },
  {
   "cell_type": "code",
   "execution_count": 8,
   "id": "1cb3848c-2639-4fa2-9eec-088d9b4940c0",
   "metadata": {},
   "outputs": [],
   "source": [
    "df_customers = pd.read_csv(r\"cleaned/customers.csv\", encoding='latin1') \n",
    "df_exchange_rates = pd.read_csv(r\"cleaned/exchange_rates.csv\")\n",
    "df_products = pd.read_csv(r\"cleaned/products.csv\")\n",
    "df_stores = pd.read_csv(r\"cleaned/stores.csv\")\n",
    "df_sales = pd.read_csv(r\"cleaned/sales.csv\")"
   ]
  },
  {
   "cell_type": "code",
   "execution_count": 13,
   "id": "fb3353bd-b9db-47e2-9bdf-2753f4e29562",
   "metadata": {},
   "outputs": [
    {
     "data": {
      "text/plain": [
       "15266"
      ]
     },
     "execution_count": 13,
     "metadata": {},
     "output_type": "execute_result"
    }
   ],
   "source": [
    "\n",
    "if 'Unnamed: 0' in df_customers.columns:\n",
    "    df_customers = df_customers.drop('Unnamed: 0', axis=1)\n",
    "df_customers.to_sql('customers', engine, if_exists='replace', index=False)\n"
   ]
  },
  {
   "cell_type": "code",
   "execution_count": 14,
   "id": "c863f8f3",
   "metadata": {},
   "outputs": [
    {
     "data": {
      "text/plain": [
       "62884"
      ]
     },
     "execution_count": 14,
     "metadata": {},
     "output_type": "execute_result"
    }
   ],
   "source": [
    "if 'Unnamed: 0' in df_exchange_rates.columns:\n",
    "    df_exchange_rates = df_exchange_rates.drop('Unnamed: 0', axis=1)\n",
    "df_exchange_rates.to_sql('exchange_rates', engine, if_exists='replace', index=False)\n",
    "if 'Unnamed: 0' in df_products.columns:\n",
    "    df_products = df_products.drop('Unnamed: 0', axis=1)\n",
    "df_products.to_sql('products', engine, if_exists='replace', index=False)\n",
    "if 'Unnamed: 0' in df_stores.columns:\n",
    "    df_stores = df_stores.drop('Unnamed: 0', axis=1)\n",
    "df_stores.to_sql('stores', engine, if_exists='replace', index=False)\n",
    "if 'Unnamed: 0' in df_sales.columns:\n",
    "    df_sales = df_sales.drop('Unnamed: 0', axis=1)\n",
    "df_sales.to_sql('sales', engine, if_exists='replace', index=False)\n"
   ]
  }
 ],
 "metadata": {
  "kernelspec": {
   "display_name": "Python 3",
   "language": "python",
   "name": "python3"
  },
  "language_info": {
   "codemirror_mode": {
    "name": "ipython",
    "version": 3
   },
   "file_extension": ".py",
   "mimetype": "text/x-python",
   "name": "python",
   "nbconvert_exporter": "python",
   "pygments_lexer": "ipython3",
   "version": "3.12.3"
  }
 },
 "nbformat": 4,
 "nbformat_minor": 5
}
